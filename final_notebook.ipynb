{
 "cells": [
  {
   "cell_type": "markdown",
   "id": "24cecc0a-1755-4e3c-883e-e5cbc5b29f79",
   "metadata": {},
   "source": [
    "# Tesla Monthly Closing Price Prediction."
   ]
  },
  {
   "cell_type": "markdown",
   "id": "e0a1d7e8-714b-4259-b1b3-3fcb0ce6fc08",
   "metadata": {},
   "source": [
    "- Predict the monthly closing price for Tesla company stock based on 3 years of recorded data from Alpha Vantage API.  \n",
    "##### ***note: Tesla stock is typically volatile, more than three times as volatile as the S&P 500 in recent months.***"
   ]
  },
  {
   "cell_type": "markdown",
   "id": "f0fb2cf7-4836-4fe9-ad28-e0eb2573ce69",
   "metadata": {},
   "source": [
    "# Goal"
   ]
  },
  {
   "cell_type": "markdown",
   "id": "f9baa552-c300-4d47-bff3-e87ee6c6b44c",
   "metadata": {},
   "source": [
    "- Identify drivers of monthly closing price.\n",
    "- Use drivers to develop a machine learning model to predict company stock market closing price value."
   ]
  },
  {
   "cell_type": "markdown",
   "id": "44d6b0e9-aa33-416e-ab2e-6834ce1fa1c9",
   "metadata": {},
   "source": [
    "# Imports"
   ]
  },
  {
   "cell_type": "code",
   "execution_count": 1,
   "id": "6200bae8-2fc8-475e-b70e-4f19580b1464",
   "metadata": {},
   "outputs": [],
   "source": [
    "# ignoring warning\n",
    "import warnings\n",
    "warnings.filterwarnings('ignore')\n",
    "\n",
    "# custom import to bring in api_key and not display\n",
    "import config\n",
    "import acquire as a\n",
    "import prepare as p\n",
    "import wrangle as w\n",
    "import explore as e\n",
    "import model as m\n",
    "\n",
    "# variable for API key access\n",
    "api_key = config.ALPHA_VANTAGE_API_KEY"
   ]
  },
  {
   "cell_type": "code",
   "execution_count": null,
   "id": "5916dff5-c936-49b6-81fd-aee8e97f9b82",
   "metadata": {},
   "outputs": [],
   "source": []
  },
  {
   "cell_type": "markdown",
   "id": "cfde8ce8-3602-442a-be6e-41346fad5fea",
   "metadata": {},
   "source": [
    "# Acquire"
   ]
  },
  {
   "cell_type": "markdown",
   "id": "7ea76931-2e38-45ec-afdc-1f0d33fd054d",
   "metadata": {},
   "source": [
    "- Data acquired from Alpha Vantage API website | API Documentation Reference: https://www.alphavantage.co/documentation/#intelligence\n",
    "- Data initially acquired on 03 Oct, 2023.\n",
    "- It contained 36 rows and 5 columns before cleaning for each stock.\n",
    "- Each row represents a month cycle for the company stock between 2020 and 2023.\n",
    "- Each column represents an element of the company stock price (open, high, low, close, volume)."
   ]
  },
  {
   "cell_type": "markdown",
   "id": "facf86ba-c479-47a8-9250-c5a8be697165",
   "metadata": {},
   "source": [
    "# Prepare"
   ]
  },
  {
   "cell_type": "markdown",
   "id": "74fba5cb-ed89-438d-9234-727f4a2fff75",
   "metadata": {},
   "source": [
    "## Data Preprocessing Steps\n",
    "\n",
    "###  **Column Renaming:**\n",
    "   - Renamed columns to enhance readability.\n",
    "\n",
    "### **Row Handling:**\n",
    "   - All rows were retained.\n",
    "\n",
    "### **Data Type Validation:**\n",
    "   - Checked and ensured that column data types were appropriate.\n",
    "   - Changed all columns from object to numerical.\n",
    "\n",
    "### **Outlier Handling:**\n",
    "   - Not very many outliers existed in this data.\n",
    "\n",
    "### **Categorical Variable Encoding:**\n",
    "   - Encoded categorical variables, including the creation of dummy variables where necessary.\n",
    "   - Dropped as it was not helpful in feature space.\n",
    "\n",
    "### **Data Splitting:**\n",
    "   - Split the data into three sets for modeling: training, validation, and test, with an approximate split of 70/15/15.\n",
    "\n",
    "### **Data Scaling:**\n",
    "   - Scaled the data using Min-Max Scaling for modeling purposes."
   ]
  },
  {
   "cell_type": "markdown",
   "id": "27a37e4a-a4f1-48e2-bf23-1fc9b42bd74a",
   "metadata": {},
   "source": [
    "  "
   ]
  },
  {
   "cell_type": "markdown",
   "id": "5a813ce4-0ace-44f6-84da-8e3116a4d9f1",
   "metadata": {},
   "source": [
    "  "
   ]
  },
  {
   "cell_type": "markdown",
   "id": "6df5a297-0714-4da6-a421-66662cffb062",
   "metadata": {},
   "source": [
    "  "
   ]
  },
  {
   "cell_type": "markdown",
   "id": "78d6ca84-405e-44d0-a978-1f1ecd482b4a",
   "metadata": {},
   "source": [
    "  "
   ]
  },
  {
   "cell_type": "code",
   "execution_count": 2,
   "id": "2cb4aa3b-39d3-41ac-9cfd-a6d9afafe77f",
   "metadata": {},
   "outputs": [],
   "source": [
    "# acquire, clean, and prepare the data\n",
    "nvda_df, aapl_df, amd_df, tsla_df, vvos_df = w.wrangle_stock_data()\n",
    "\n",
    "# Train, test, split data\n",
    "tsla_train, tsla_val, tsla_test = p.train_val_test(tsla_df)"
   ]
  },
  {
   "cell_type": "markdown",
   "id": "1738b60c-eeea-4dd3-89b4-e87eded2ea8f",
   "metadata": {},
   "source": [
    "  "
   ]
  },
  {
   "cell_type": "markdown",
   "id": "b1e58fe3-defa-4691-a67d-e615651f8800",
   "metadata": {},
   "source": [
    "  "
   ]
  },
  {
   "cell_type": "markdown",
   "id": "3f1b0179-85e4-44a8-85ee-c537c299beb1",
   "metadata": {},
   "source": [
    "### Quick view of data,"
   ]
  },
  {
   "cell_type": "code",
   "execution_count": 3,
   "id": "775212ee-d158-4177-a7ec-860cb78784e8",
   "metadata": {
    "scrolled": true
   },
   "outputs": [
    {
     "name": "stdout",
     "output_type": "stream",
     "text": [
      "(25, 9)\n"
     ]
    },
    {
     "data": {
      "text/html": [
       "<div>\n",
       "<style scoped>\n",
       "    .dataframe tbody tr th:only-of-type {\n",
       "        vertical-align: middle;\n",
       "    }\n",
       "\n",
       "    .dataframe tbody tr th {\n",
       "        vertical-align: top;\n",
       "    }\n",
       "\n",
       "    .dataframe thead th {\n",
       "        text-align: right;\n",
       "    }\n",
       "</style>\n",
       "<table border=\"1\" class=\"dataframe\">\n",
       "  <thead>\n",
       "    <tr style=\"text-align: right;\">\n",
       "      <th></th>\n",
       "      <th>tsla_open</th>\n",
       "      <th>tsla_high</th>\n",
       "      <th>tsla_low</th>\n",
       "      <th>tsla_close</th>\n",
       "      <th>tsla_volume</th>\n",
       "      <th>month</th>\n",
       "      <th>day_of_week</th>\n",
       "      <th>year</th>\n",
       "      <th>next_month_close</th>\n",
       "    </tr>\n",
       "  </thead>\n",
       "  <tbody>\n",
       "    <tr>\n",
       "      <th>2020-12-31</th>\n",
       "      <td>597.59</td>\n",
       "      <td>718.72</td>\n",
       "      <td>541.2100</td>\n",
       "      <td>705.67</td>\n",
       "      <td>1194948499</td>\n",
       "      <td>December</td>\n",
       "      <td>Thursday</td>\n",
       "      <td>2020</td>\n",
       "      <td>567.60</td>\n",
       "    </tr>\n",
       "    <tr>\n",
       "      <th>2023-10-04</th>\n",
       "      <td>244.81</td>\n",
       "      <td>261.86</td>\n",
       "      <td>242.6200</td>\n",
       "      <td>261.16</td>\n",
       "      <td>355517274</td>\n",
       "      <td>October</td>\n",
       "      <td>Wednesday</td>\n",
       "      <td>2023</td>\n",
       "      <td>250.22</td>\n",
       "    </tr>\n",
       "    <tr>\n",
       "      <th>2023-06-30</th>\n",
       "      <td>202.59</td>\n",
       "      <td>276.99</td>\n",
       "      <td>199.3700</td>\n",
       "      <td>261.77</td>\n",
       "      <td>3443091887</td>\n",
       "      <td>June</td>\n",
       "      <td>Friday</td>\n",
       "      <td>2023</td>\n",
       "      <td>203.93</td>\n",
       "    </tr>\n",
       "    <tr>\n",
       "      <th>2021-05-28</th>\n",
       "      <td>703.80</td>\n",
       "      <td>706.00</td>\n",
       "      <td>546.9800</td>\n",
       "      <td>625.22</td>\n",
       "      <td>625175872</td>\n",
       "      <td>May</td>\n",
       "      <td>Friday</td>\n",
       "      <td>2021</td>\n",
       "      <td>709.44</td>\n",
       "    </tr>\n",
       "    <tr>\n",
       "      <th>2022-07-29</th>\n",
       "      <td>681.00</td>\n",
       "      <td>894.96</td>\n",
       "      <td>648.5001</td>\n",
       "      <td>891.45</td>\n",
       "      <td>581783311</td>\n",
       "      <td>July</td>\n",
       "      <td>Friday</td>\n",
       "      <td>2022</td>\n",
       "      <td>673.42</td>\n",
       "    </tr>\n",
       "  </tbody>\n",
       "</table>\n",
       "</div>"
      ],
      "text/plain": [
       "            tsla_open  tsla_high  tsla_low  tsla_close  tsla_volume     month  \\\n",
       "2020-12-31     597.59     718.72  541.2100      705.67   1194948499  December   \n",
       "2023-10-04     244.81     261.86  242.6200      261.16    355517274   October   \n",
       "2023-06-30     202.59     276.99  199.3700      261.77   3443091887      June   \n",
       "2021-05-28     703.80     706.00  546.9800      625.22    625175872       May   \n",
       "2022-07-29     681.00     894.96  648.5001      891.45    581783311      July   \n",
       "\n",
       "           day_of_week  year  next_month_close  \n",
       "2020-12-31    Thursday  2020            567.60  \n",
       "2023-10-04   Wednesday  2023            250.22  \n",
       "2023-06-30      Friday  2023            203.93  \n",
       "2021-05-28      Friday  2021            709.44  \n",
       "2022-07-29      Friday  2022            673.42  "
      ]
     },
     "execution_count": 3,
     "metadata": {},
     "output_type": "execute_result"
    }
   ],
   "source": [
    "# First 5 rows of data\n",
    "print(tsla_train.shape)\n",
    "tsla_train.head()"
   ]
  },
  {
   "cell_type": "markdown",
   "id": "81b35df6-4f63-4dba-b712-917851cc10fd",
   "metadata": {},
   "source": [
    "  "
   ]
  },
  {
   "cell_type": "markdown",
   "id": "3d0aed94-52b5-4fd0-a908-c9d72b87b364",
   "metadata": {},
   "source": [
    "  "
   ]
  },
  {
   "cell_type": "markdown",
   "id": "27dbac23-dc4c-467f-a0f3-a4a1058fd9ca",
   "metadata": {},
   "source": [
    "  "
   ]
  },
  {
   "cell_type": "markdown",
   "id": "75c8f645-3219-45d6-9fdc-b6fd2b422fd7",
   "metadata": {},
   "source": [
    "### Distribution of TESLA (TSLA) stock Data based on close price"
   ]
  },
  {
   "cell_type": "code",
   "execution_count": 4,
   "id": "1243176a-1aee-4006-99e4-85764fcf2411",
   "metadata": {},
   "outputs": [
    {
     "data": {
      "image/png": "[encoded data removed]",
      "text/plain": [
       "<Figure size 1000x600 with 1 Axes>"
      ]
     },
     "metadata": {},
     "output_type": "display_data"
    }
   ],
   "source": [
    "# function for data distribution based on target\n",
    "e.dist_of_data(tsla_df, 'tsla_close')"
   ]
  },
  {
   "cell_type": "markdown",
   "id": "f5ddcfdd-da7f-4d8d-ab6e-38c424d868bc",
   "metadata": {},
   "source": [
    "  "
   ]
  },
  {
   "cell_type": "markdown",
   "id": "810a7d46-8b33-4fa1-90f5-67f14b905f4b",
   "metadata": {},
   "source": [
    "  "
   ]
  },
  {
   "cell_type": "markdown",
   "id": "19ba1b22-61e6-42ba-89e3-b01d9d44f3d7",
   "metadata": {},
   "source": [
    "  "
   ]
  },
  {
   "cell_type": "markdown",
   "id": "5f5f8603-f11a-479a-8da1-a6bd93ebbc53",
   "metadata": {},
   "source": [
    "# Explore"
   ]
  },
  {
   "cell_type": "markdown",
   "id": "40d9d748-5463-4b2e-8a13-1c39689fa9b5",
   "metadata": {},
   "source": [
    "* Does TSLA stock volume have a correlation with it's daily closing price? \n",
    "* Is there a significant relationship between the month in which TSLA stock was traded and its closing price?\n",
    "* Does TSLA daily high stock price have a correlation with open stock price?  \n",
    "* Is there a significant correlation between the month in which TSLA stock was traded and its closing price? "
   ]
  },
  {
   "cell_type": "markdown",
   "id": "40294061-f5d8-482e-a94a-3aa55134ae82",
   "metadata": {},
   "source": [
    "  "
   ]
  },
  {
   "cell_type": "markdown",
   "id": "5df1c7eb-d935-4261-a0df-c4bd5af1a549",
   "metadata": {},
   "source": [
    "  "
   ]
  },
  {
   "cell_type": "markdown",
   "id": "a678790d-0488-4d18-a367-e66878b0e2ef",
   "metadata": {},
   "source": [
    "  "
   ]
  },
  {
   "cell_type": "markdown",
   "id": "aced1361-66c2-4e97-82f5-769e263bbfe6",
   "metadata": {},
   "source": [
    "## Question 1\n",
    "\n",
    "### Does TSLA stock volume have a correlation with it's daily closing price?  \n",
    "\n",
    "\n",
    "> **Null Hypothesis ($H0$):** volume of stock **does have a significant correlation** with close price of TSLA stock.  \n",
    ">\n",
    "> **Alternative Hypothesis ($Ha$):** volume of stock **does NOT have a significant correlation** with close price of TSLA stock.  "
   ]
  },
  {
   "cell_type": "markdown",
   "id": "3f76fb0a-d726-43b9-b0f7-87a00715016a",
   "metadata": {},
   "source": [
    "  "
   ]
  },
  {
   "cell_type": "code",
   "execution_count": 5,
   "id": "8bce62c2-d3fb-474f-9260-7ed44a8f0070",
   "metadata": {},
   "outputs": [
    {
     "data": {
      "image/png": "[encoded data removed]",
      "text/plain": [
       "<Figure size 500x500 with 1 Axes>"
      ]
     },
     "metadata": {},
     "output_type": "display_data"
    },
    {
     "name": "stdout",
     "output_type": "stream",
     "text": [
      "\n",
      "Reject the null hypothesis.\n",
      "\n",
      "There is a significant linear correlation between tsla_volume and tsla_close.\n",
      "\n",
      "p-value: 8.103655469770998e-06\n"
     ]
    }
   ],
   "source": [
    "# visual and stat test function \n",
    "e.explore_question_1(tsla_train)"
   ]
  },
  {
   "cell_type": "markdown",
   "id": "670f95f3-df6c-48bf-89a1-4ec586bd87bf",
   "metadata": {},
   "source": [
    "  "
   ]
  },
  {
   "cell_type": "markdown",
   "id": "5e457eaf-59d9-4310-99b2-f1d47858afbb",
   "metadata": {},
   "source": [
    "  "
   ]
  },
  {
   "cell_type": "markdown",
   "id": "f88d29aa-2a26-408f-ad7b-63004fe165bc",
   "metadata": {},
   "source": [
    "## **Takeaway:**  \n",
    "\n",
    "* ### There seems to be a correlation for the TSLA stock volume and close price. We can takeaway that even though there is a negative slope here there is still some correlation."
   ]
  },
  {
   "cell_type": "markdown",
   "id": "b82bc5a0-b5d0-469a-8b0e-630a88f4f101",
   "metadata": {},
   "source": [
    "  "
   ]
  },
  {
   "cell_type": "markdown",
   "id": "aa1b0cd7-e1e3-4357-afc7-4d24e2e38695",
   "metadata": {},
   "source": [
    "  "
   ]
  },
  {
   "cell_type": "markdown",
   "id": "551ee0c2-aa38-4043-b966-260349fa05d8",
   "metadata": {},
   "source": [
    "  --------------------"
   ]
  },
  {
   "cell_type": "markdown",
   "id": "dbd74bed-c566-4930-b880-39fdfb23a253",
   "metadata": {},
   "source": [
    "  "
   ]
  },
  {
   "cell_type": "markdown",
   "id": "8a45090d-7d32-438e-9016-e6d2d2b39675",
   "metadata": {},
   "source": [
    "  "
   ]
  },
  {
   "cell_type": "markdown",
   "id": "0770e4b6-de35-4e8d-93d1-cb7aa4a4b741",
   "metadata": {},
   "source": [
    "## Question 2\n",
    "\n",
    "### Is there a significant relationship between the month in which TSLA stock was traded and its closing price?"
   ]
  },
  {
   "cell_type": "markdown",
   "id": "bb2ba669-a11c-415c-88e0-e7b53a13bda0",
   "metadata": {},
   "source": [
    "  "
   ]
  },
  {
   "cell_type": "code",
   "execution_count": 6,
   "id": "c31955b3-1698-4590-8cc0-eafb8143aa14",
   "metadata": {},
   "outputs": [
    {
     "data": {
      "image/png": "[encoded data removed]",
      "text/plain": [
       "<Figure size 640x480 with 1 Axes>"
      ]
     },
     "metadata": {},
     "output_type": "display_data"
    }
   ],
   "source": [
    "# visual and stat test function \n",
    "e.explore_question_2(tsla_train)"
   ]
  },
  {
   "cell_type": "markdown",
   "id": "f20b1443-7664-4ad8-9ad8-17494c057fc2",
   "metadata": {},
   "source": [
    "  "
   ]
  },
  {
   "cell_type": "markdown",
   "id": "53627d84-7cc5-40de-b961-226da252878e",
   "metadata": {},
   "source": [
    "  "
   ]
  },
  {
   "cell_type": "markdown",
   "id": "ac6ce446-58de-4a7a-9607-cdf388e473b5",
   "metadata": {},
   "source": [
    "## **Takeaway:**  \n",
    "\n",
    "* ### Here we can see over the 3 year span that the data shows winter being the season that has the highest closing price. we can take away that there is a relationship between these features and month may prove useful for predicting close_price. The data is normal, and less uniform unlike the other stocks companies"
   ]
  },
  {
   "cell_type": "markdown",
   "id": "a21086d1-ba03-4256-9968-c652afb55321",
   "metadata": {},
   "source": [
    "  "
   ]
  },
  {
   "cell_type": "markdown",
   "id": "3198554f-dacf-4f0f-92a5-2ff6781d5517",
   "metadata": {},
   "source": [
    "  "
   ]
  },
  {
   "cell_type": "markdown",
   "id": "8e40b629-ae08-4119-8bf1-43bd6bba0e24",
   "metadata": {},
   "source": [
    "--------------------"
   ]
  },
  {
   "cell_type": "markdown",
   "id": "cb49a1d7-cee1-474b-91d2-83bfc4db2bc4",
   "metadata": {},
   "source": [
    "  "
   ]
  },
  {
   "cell_type": "markdown",
   "id": "aa1e8fda-e595-493b-8749-e31724f1d93a",
   "metadata": {},
   "source": [
    "  "
   ]
  },
  {
   "cell_type": "markdown",
   "id": "074c5b5b-6b03-4be6-b7b6-a70d0f9b5f56",
   "metadata": {},
   "source": [
    "## **Question 3**\n",
    "\n",
    "### Does TSLA daily high stock price have a correlation with open stock price?\n",
    "\n",
    "> **Null Hypothesis ($H0$):** There is **a significant correlation** between the high price and the open price of TSLA stock.  \n",
    ">\n",
    "> **Alternative Hypothesis ($Ha$):** There **is no significant correlation** between the high price and the open price of TSLA stock."
   ]
  },
  {
   "cell_type": "markdown",
   "id": "528cf165-d715-4c60-abc0-0e97058b98c6",
   "metadata": {},
   "source": [
    "  "
   ]
  },
  {
   "cell_type": "code",
   "execution_count": 7,
   "id": "136707d0-6a2c-4767-b9da-41ce6bf35410",
   "metadata": {},
   "outputs": [
    {
     "data": {
      "image/png": "[encoded data removed]",
      "text/plain": [
       "<Figure size 500x500 with 1 Axes>"
      ]
     },
     "metadata": {},
     "output_type": "display_data"
    },
    {
     "name": "stdout",
     "output_type": "stream",
     "text": [
      "\n",
      "Reject the null hypothesis.\n",
      "\n",
      "There is a significant linear correlation between tsla_high and tsla_open.\n",
      "\n",
      "p-value: 1.1149549749719857e-16\n"
     ]
    }
   ],
   "source": [
    "# visual and stat test function \n",
    "e.explore_question_3(tsla_train)"
   ]
  },
  {
   "cell_type": "markdown",
   "id": "321b16dc-3b4a-4cfd-a225-b291e373d2ff",
   "metadata": {},
   "source": [
    "  "
   ]
  },
  {
   "cell_type": "markdown",
   "id": "69643c65-9a41-4b42-9448-a4378431f82f",
   "metadata": {},
   "source": [
    "  "
   ]
  },
  {
   "cell_type": "markdown",
   "id": "ed107bb1-0106-466f-ae8b-c9631b3eeaa3",
   "metadata": {},
   "source": [
    "## **Takeaway:**  \n",
    "\n",
    "* ### We can see visually before running a stats test that these two features are very correlated so these will be super helpful in prediction."
   ]
  },
  {
   "cell_type": "markdown",
   "id": "4fadf71d-f2dd-4e52-8507-14c5c4138275",
   "metadata": {},
   "source": [
    "  "
   ]
  },
  {
   "cell_type": "markdown",
   "id": "7858aef8-23a1-4a7c-9dd9-6174017f34d8",
   "metadata": {},
   "source": [
    "  "
   ]
  },
  {
   "cell_type": "markdown",
   "id": "9b6694e5-81e2-40d0-a6e7-c7351fcb8d91",
   "metadata": {},
   "source": [
    "  "
   ]
  },
  {
   "cell_type": "markdown",
   "id": "4b7701ae-63be-42a5-9c0b-f304a4739c18",
   "metadata": {},
   "source": [
    "-----------------"
   ]
  },
  {
   "cell_type": "markdown",
   "id": "4f4a00c9-cd59-4f3c-9024-ab7ca5abca96",
   "metadata": {},
   "source": [
    "  "
   ]
  },
  {
   "cell_type": "markdown",
   "id": "edab4c2f-6a73-406b-9e11-52ce98a9b3c7",
   "metadata": {},
   "source": [
    "  "
   ]
  },
  {
   "cell_type": "markdown",
   "id": "8d2fcab8-56cb-435a-8d4b-e097a7ea8032",
   "metadata": {},
   "source": [
    "## Question 4\n",
    "\n",
    "### Is there a significant correlation between the month in which TSLA stock was traded and its closing price?"
   ]
  },
  {
   "cell_type": "markdown",
   "id": "b0ea34b7-c4c5-4e72-b992-e7c434f1f283",
   "metadata": {},
   "source": [
    "  "
   ]
  },
  {
   "cell_type": "code",
   "execution_count": 8,
   "id": "ffb4e992-e76d-4f52-8597-dc666f7fefb5",
   "metadata": {},
   "outputs": [
    {
     "data": {
      "image/png": "[encoded data removed]",
      "text/plain": [
       "<Figure size 640x480 with 1 Axes>"
      ]
     },
     "metadata": {},
     "output_type": "display_data"
    }
   ],
   "source": [
    "# visual and stat test function \n",
    "e.explore_question_4(tsla_train)"
   ]
  },
  {
   "cell_type": "markdown",
   "id": "57440298-e086-4ae8-acc6-811a8d8a893f",
   "metadata": {},
   "source": [
    "  "
   ]
  },
  {
   "cell_type": "markdown",
   "id": "d67e2d4e-f829-4c99-870b-3c139ae12f72",
   "metadata": {},
   "source": [
    "  "
   ]
  },
  {
   "cell_type": "markdown",
   "id": "d7fc8def-9465-447d-b4a7-e74f9349aaeb",
   "metadata": {},
   "source": [
    "## **Takeaway:**  \n",
    "\n",
    "* ### This visual can tell us that the data is very uniform, but we can discern the tiny differences of close price for each day which means its pretty average daily"
   ]
  },
  {
   "cell_type": "markdown",
   "id": "ec27aa2d-1e45-4bb3-9c14-a6bd0ddcf504",
   "metadata": {},
   "source": [
    "  "
   ]
  },
  {
   "cell_type": "markdown",
   "id": "09944371-8420-4b10-8583-6884642dba24",
   "metadata": {},
   "source": [
    "  "
   ]
  },
  {
   "cell_type": "markdown",
   "id": "c4e31c7b-62d4-410e-8d35-46c621477f46",
   "metadata": {},
   "source": [
    "  "
   ]
  },
  {
   "cell_type": "markdown",
   "id": "7faaa0f2-6e17-4254-b8d9-ec56acbddf85",
   "metadata": {},
   "source": [
    "  "
   ]
  },
  {
   "cell_type": "markdown",
   "id": "129e6a90-3d09-44fc-b993-8504257ac7c3",
   "metadata": {},
   "source": [
    "  "
   ]
  },
  {
   "cell_type": "markdown",
   "id": "04a42a0c-b445-460f-82b0-fb0c416a75d3",
   "metadata": {},
   "source": [
    "  "
   ]
  },
  {
   "cell_type": "markdown",
   "id": "bca0b509-8d8f-4037-8e55-8e5d6babb083",
   "metadata": {},
   "source": [
    "# Explore Summary"
   ]
  },
  {
   "cell_type": "markdown",
   "id": "2aa74eda-a0ce-4744-9a65-2923e2ee37a7",
   "metadata": {},
   "source": [
    "- There is a strong relationship between date timeframes and features.\n",
    "- There is a correlation between volume price and closing price.\n",
    "    - The high price and open price had a strong correlation"
   ]
  },
  {
   "cell_type": "markdown",
   "id": "ea64934b-8806-4480-9261-5dd4ccd1f8d0",
   "metadata": {},
   "source": [
    "  "
   ]
  },
  {
   "cell_type": "markdown",
   "id": "f89db106-87d6-40c7-a8c3-cfe0437b9b67",
   "metadata": {},
   "source": [
    "  "
   ]
  },
  {
   "cell_type": "markdown",
   "id": "59c70728-4414-4553-b5da-defbd6f75235",
   "metadata": {},
   "source": [
    "  "
   ]
  },
  {
   "cell_type": "markdown",
   "id": "eacb53ec-7239-42d4-9a19-f89bbe27c6e6",
   "metadata": {},
   "source": [
    "# Features for modeling"
   ]
  },
  {
   "cell_type": "markdown",
   "id": "7edeaf75-7d35-4c3a-8051-c1161a6a92c2",
   "metadata": {},
   "source": [
    "### **Features that will be used:**\n",
    "* *next_month_close*(target)  \n",
    "\n",
    "### **Some features that may be useful:**  \n",
    "* *tsla_open*\n",
    "* *tsla_high*\n",
    "* *tsla_low*\n",
    "* *tsla_close*\n",
    "* *tsla_volume*\n",
    "* *year*"
   ]
  },
  {
   "cell_type": "markdown",
   "id": "de5e6295-6152-4560-9a16-fa2c2f3771d7",
   "metadata": {},
   "source": [
    "  "
   ]
  },
  {
   "cell_type": "markdown",
   "id": "952755f3-749b-4b50-b9a6-f0f4dc242d15",
   "metadata": {},
   "source": [
    "  "
   ]
  },
  {
   "cell_type": "markdown",
   "id": "e6116f99-9973-466d-83c0-0c62eaecdf4a",
   "metadata": {},
   "source": [
    "  "
   ]
  },
  {
   "cell_type": "markdown",
   "id": "a14cae46-1b17-429e-8c90-df7a2c39348a",
   "metadata": {},
   "source": [
    "# Modeling\n",
    "\n",
    "### Evaluation Metric\n",
    "- The primary evaluation metrics for the models are:\n",
    "  - Root Mean Squared Error (RMSE)\n",
    "  - Calculated Model Significance\n",
    "\n",
    "### Data Expansion\n",
    "- Given more time, additional data could be gathered to improve model performance.\n",
    "- Experimentation with hyperparameter configurations can lead to better significance and lower RMSE.\n",
    "\n",
    "### Target Feature\n",
    "- The target feature for the models is `next_month_close`.\n",
    "\n",
    "### Baseline RMSE\n",
    "- The baseline RMSE is approximately 0.34.\n",
    "\n",
    "### Models and Hyperparameters\n",
    "- Two different sets regression modeling for model development, each optimized for different features:\n",
    "  1. RandomForestRegressor (default)\n",
    "  3. LinearRegression (default)\n",
    "\n",
    "### Model Evaluation\n",
    "- Models will be developed and evaluated on the training and validation datasets.\n",
    "\n",
    "### Final Model Selection\n",
    "- The best-performing model, as determined by RMSE and Model Significance on the validation set, will be selected.\n",
    "\n",
    "### Test Dataset\n",
    "- The selected best model will be evaluated on the test dataset for final performance assessment.ized and easier to understand.\r\n"
   ]
  },
  {
   "cell_type": "markdown",
   "id": "815acb5b-e6f1-4981-ab89-6baac8e5114e",
   "metadata": {},
   "source": [
    "  "
   ]
  },
  {
   "cell_type": "code",
   "execution_count": 9,
   "id": "e202de2d-3f73-49bf-8c40-94072c3237bd",
   "metadata": {},
   "outputs": [],
   "source": [
    "# Train, test split, and scale data\n",
    "tsla_train, tsla_val, tsla_test = w.split_and_scale_data(tsla_df)"
   ]
  },
  {
   "cell_type": "markdown",
   "id": "8738e2c5-75ea-4c2a-a3cb-af967e738a58",
   "metadata": {},
   "source": [
    "  "
   ]
  },
  {
   "cell_type": "markdown",
   "id": "158ed667-1620-45e2-ab67-85862b4c9c27",
   "metadata": {},
   "source": [
    "## Baseline Model Root Mean Squared Error | R2 Score"
   ]
  },
  {
   "cell_type": "code",
   "execution_count": 10,
   "id": "4680fcd4-a6fd-4aef-a269-bf890c3efc6e",
   "metadata": {},
   "outputs": [
    {
     "data": {
      "image/png": "[encoded data removed]",
      "text/plain": [
       "<Figure size 1000x600 with 1 Axes>"
      ]
     },
     "metadata": {},
     "output_type": "display_data"
    },
    {
     "name": "stdout",
     "output_type": "stream",
     "text": [
      "\n",
      "-------------------------------------\n",
      "Model RMSE: 0.01\n",
      "Model R-squared: 1.00\n",
      "\n",
      "-------------------------------------\n",
      "Baseline RMSE: 0.34\n",
      "baseline R-squared: -0.08\n",
      "\n",
      "-------------------------------------\n"
     ]
    }
   ],
   "source": [
    "# baseline and model rmse and residual plot visual\n",
    "m.lin_reg_baseline_model(tsla_train, 'next_month_close')"
   ]
  },
  {
   "cell_type": "markdown",
   "id": "bf048477-5627-4900-9950-c849ee0b831f",
   "metadata": {},
   "source": [
    "\n"
   ]
  },
  {
   "cell_type": "markdown",
   "id": "3b01ef8e-9295-4842-988d-2d65429900a7",
   "metadata": {},
   "source": [
    "  "
   ]
  },
  {
   "cell_type": "markdown",
   "id": "d370db29-df75-40cc-8d0f-c0a47b3bb228",
   "metadata": {},
   "source": [
    "## Best 3 models"
   ]
  },
  {
   "cell_type": "markdown",
   "id": "cbfa2843-04e5-43be-b80c-06ca50daaabb",
   "metadata": {},
   "source": [
    "  "
   ]
  },
  {
   "cell_type": "code",
   "execution_count": 11,
   "id": "a9a02551-6f21-4151-966a-b8130f18c789",
   "metadata": {},
   "outputs": [
    {
     "name": "stdout",
     "output_type": "stream",
     "text": [
      "\n",
      "Model 1: Random Forest Regressor\n",
      "\n",
      "-------------------------------------\n",
      "\n",
      "Training RMSE: 0.02\n",
      "\n",
      "-------------------------------------\n",
      "\n",
      "Validation RMSE: 0.02\n",
      "\n",
      "-------------------------------------\n",
      "\n",
      "Training R-squared (R2): 0.99\n",
      "\n",
      "-------------------------------------\n",
      "\n",
      "Validation R-squared (R2): 1.00\n",
      "\n",
      "\n",
      "\n",
      "\n",
      "Model 2: Linear Regression Baseline\n",
      "\n",
      "Training Set Metrics:\n",
      "RMSE: 0.01\n",
      "R-squared: 1.00\n",
      "\n",
      "Validation Set Metrics:\n",
      "RMSE: 0.04\n",
      "R-squared: 0.99\n",
      "\n",
      "\n",
      "\n",
      "\n",
      "Model 3: XGBoost Regressor\n",
      "\n",
      "\n",
      "\n",
      "-------------------------------------\n",
      "\n",
      "Training RMSE: 0.01\n",
      "\n",
      "-------------------------------------\n",
      "\n",
      "Training R-squared (R2): 1.00\n",
      "\n",
      "-------------------------------------\n",
      "\n",
      "Validation RMSE: 0.03\n",
      "\n",
      "-------------------------------------\n",
      "\n",
      "Validation R-squared (R2): 0.99\n",
      "\n",
      "-------------------------------------\n",
      "\n",
      "Best Score: 0.0274834186348684\n",
      "\n",
      "\n",
      "\n",
      "\n",
      "Best Model: Random Forest Regressor Model\n",
      "\n",
      "-------------------------------------\n",
      "\n",
      "Training RMSE: 0.03\n",
      "\n",
      "-------------------------------------\n",
      "\n",
      "Test RMSE: 0.07\n",
      "\n",
      "-------------------------------------\n",
      "\n",
      "Training R-squared (R2): 0.99\n",
      "\n",
      "-------------------------------------\n",
      "\n",
      "Test R-squared (R2): 0.94\n"
     ]
    }
   ],
   "source": [
    "# models testing function\n",
    "m.main(tsla_train, tsla_val, tsla_test)"
   ]
  },
  {
   "cell_type": "markdown",
   "id": "572e2eac-e054-49d8-8431-0c6ca2ad0d51",
   "metadata": {},
   "source": [
    "  "
   ]
  },
  {
   "cell_type": "markdown",
   "id": "96345424-666e-4b43-b745-230f45c44fbf",
   "metadata": {},
   "source": [
    "  "
   ]
  },
  {
   "cell_type": "markdown",
   "id": "16bfaac8-0925-43f1-a826-d0d4ab5c4eba",
   "metadata": {},
   "source": [
    "  "
   ]
  },
  {
   "cell_type": "markdown",
   "id": "6972f6ac-885c-4a3f-afef-d6c2dda8d7ca",
   "metadata": {},
   "source": [
    "  "
   ]
  },
  {
   "cell_type": "markdown",
   "id": "971df4c1-8018-4313-a525-d5c2d3940242",
   "metadata": {},
   "source": [
    "# Model Summary\n",
    "\n",
    "### RandomForestRegression Model\n",
    "- The RandomForestRegression model showed the best results in generalizing and performed best with the follwing metrics:\n",
    "    - Test RMSE: 0.07\n",
    "    - Test R-squared (R2): 0.92\n",
    "\n",
    "### LinearRegression Model\n",
    "- The LinearRegression model did great as well but was not performing like the Random Forest Regression model when validation metrics were compared.\n",
    "\n",
    "### XGBRegressor Model\n",
    "- The XGBRegressor model, with hyperparameter tuning, performed great but did not reach rfr performance."
   ]
  },
  {
   "cell_type": "markdown",
   "id": "23574ae9-e89a-4720-9852-131f21ccafc5",
   "metadata": {},
   "source": [
    "  "
   ]
  },
  {
   "cell_type": "markdown",
   "id": "c188bc4f-fd91-4aae-8aa0-71a9921129d8",
   "metadata": {},
   "source": [
    "  "
   ]
  },
  {
   "cell_type": "markdown",
   "id": "f0bd7579-00aa-4a32-b3f7-fc8234e6e361",
   "metadata": {},
   "source": [
    "# Conclusion\n",
    "\n",
    "## Takeaways and Key Findings\n",
    "\n",
    "- Company stocks with low volatility or are considered stable would not benefit from regression modeling.\n",
    "- Company stocks with high volatility need to be analyzed over a shorter amount of time versus the span of twenty plus years.\n",
    "- It's easier to analyze data when there is ups and downs on the stock you are trying to predict closing price.\n",
    "- Tesla's stock is not easy to predict accurately and it goes the same for other volatile stocks explored during the exploration phase outside of the data science project.\n",
    "\n",
    "\n",
    "## Model Improvement\n",
    "- The model does well with default setting and hyperparameter tuning may or may not aid in regression modeling efforts.\n",
    "\n",
    "# Recommendations and Next Steps\n",
    "\n",
    "- I would recommend maybe gaining sentiment data, user data, and other forms of unstructured data that can be used with deep learning methodoligies may help in predicting certain pricing elements for high volatile company stocks. Additionally I would also detail time frames to adjust for open and closed time frames of the stock market for optimal opportunity in price predictions.\n",
    "\n",
    "- Given more time, the following actions could be considered:\n",
    "  - Gather more data to improve model performance.\n",
    "  - Revisit the data exploration phase to gain a more comprehensive dataset.\n",
    "      - Time Series Analysis would have been my alternate route in predicting closing prices:\n",
    "          - Utilizing Time series models like:\n",
    "          - ARIMA (AutoRegressive Integrated Moving Average)\n",
    "          - or more advanced techniques like LSTM (Long Short-Term Memory) and FBProphet are designed specifically for time-dependent data like stock prices."
   ]
  },
  {
   "cell_type": "code",
   "execution_count": null,
   "id": "f2258e9d-f7ab-4bc0-9242-669ee908f0be",
   "metadata": {},
   "outputs": [],
   "source": []
  }
 ],
 "metadata": {
  "kernelspec": {
   "display_name": "Python 3 (ipykernel)",
   "language": "python",
   "name": "python3"
  },
  "language_info": {
   "codemirror_mode": {
    "name": "ipython",
    "version": 3
   },
   "file_extension": ".py",
   "mimetype": "text/x-python",
   "name": "python",
   "nbconvert_exporter": "python",
   "pygments_lexer": "ipython3",
   "version": "3.10.12"
  }
 },
 "nbformat": 4,
 "nbformat_minor": 5
}
